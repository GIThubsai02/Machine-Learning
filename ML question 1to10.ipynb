{
 "cells": [
  {
   "cell_type": "code",
   "execution_count": 36,
   "metadata": {},
   "outputs": [
    {
     "name": "stdout",
     "output_type": "stream",
     "text": [
      "[19, 22, 19, 24, 20, 25, 26, 24, 25, 24]\n",
      "[19, 19, 20, 22, 24, 24, 24, 25, 25, 26]\n",
      "Minimum value in list is :  19  \n",
      "Maximum value in list is:  26\n",
      "[19, 19, 20, 22, 24, 24, 24, 25, 25, 26, 19, 26]\n",
      "median is  24.0\n",
      "sum of list is :  273\n",
      "len of list is :  12\n",
      "Average of list is :  22.75\n",
      "range of list is  7\n"
     ]
    }
   ],
   "source": [
    "#1\n",
    "import statistics;\n",
    "ages = [19, 22, 19, 24, 20, 25, 26, 24, 25, 24]\n",
    "print(ages);\n",
    "# sorting the list\n",
    "ages.sort();\n",
    "print(ages);\n",
    "# Min and Max\n",
    "minimum = min(ages);\n",
    "maximum = max(ages)\n",
    "print(\"Minimum value in list is : \" , minimum , \" \\nMaximum value in list is: \" , maximum);\n",
    "# Adding min and max to list\n",
    "ages.append(minimum);\n",
    "ages.append(maximum);\n",
    "print(ages);\n",
    "# finding the median age\n",
    "median = statistics.median(ages)\n",
    "print(\"median is \", median);\n",
    "# average\n",
    "s = sum(ages);\n",
    "print(\"sum of list is : \", s);\n",
    "l = len(ages);\n",
    "print(\"len of list is : \", l);\n",
    "ave = s/l;\n",
    "print(\"Average of list is : \", ave);\n",
    "#Range\n",
    "ran = maximum - minimum;\n",
    "print(\"range of list is \", ran);\n"
   ]
  },
  {
   "cell_type": "code",
   "execution_count": 49,
   "metadata": {},
   "outputs": [
    {
     "name": "stdout",
     "output_type": "stream",
     "text": [
      "Length of the Student dictionary is 9\n",
      "skills of student are  ['HTML', 'C', 'Java']\n",
      "datatype of skills is <class 'list'>\n",
      "Modified skills in list are ['HTML', 'C', 'Java', 'Python', 'Hybris']\n",
      "Keys in the student dictionary are ['first_name', 'last_name', 'gender', 'age', 'marital status', 'skills', 'country', 'city', 'address']\n",
      "values in the student dictionary are ['Sai_Krishna', 'Peruka', 'Male', '22', 'Unmarried', ['HTML', 'C', 'Java', 'Python', 'Hybris'], 'India', 'Warangal', 'Balaji Nagar, Kothawada, Warangal, 506002']\n"
     ]
    }
   ],
   "source": [
    "#2\n",
    "\n",
    "Dog = {}\n",
    "\n",
    "Dog.update({\n",
    "    'name' : 'Leo',\n",
    "    'color' : 'White',\n",
    "    'breed' : 'Pomeranian',\n",
    "    'legs' : '4',\n",
    "    'age' : '2'\n",
    "    })\n",
    "#student dictionary\n",
    "Student = {\n",
    "    'first_name' : 'Sai_Krishna',\n",
    "    'last_name' : 'Peruka',\n",
    "    'gender' : 'Male',\n",
    "    'age' : '22',\n",
    "    'marital status' : 'Unmarried',\n",
    "    'skills' : [\"HTML\",\"C\",\"Java\"],\n",
    "    'country' : 'India',\n",
    "    'city' : 'Warangal',\n",
    "    'address' : 'Balaji Nagar, Kothawada, Warangal, 506002'\n",
    "}\n",
    "#length of student dictionary\n",
    "print(\"Length of the Student dictionary is\", len(Student))\n",
    "#Get the value of skills and check the data type\n",
    "print(\"skills of student are \", Student['skills'])\n",
    "print(\"datatype of skills is\", type(Student['skills']))\n",
    "#modifying\n",
    "Student['skills'].extend([\"Python\", \"Hybris\"])\n",
    "print(\"Modified skills in list are\", Student['skills'])\n",
    "#keys as list\n",
    "print(\"Keys in the student dictionary are\", list(Student.keys()))\n",
    "print(\"values in the student dictionary are\", list(Student.values()))\n"
   ]
  },
  {
   "cell_type": "code",
   "execution_count": 60,
   "metadata": {},
   "outputs": [
    {
     "name": "stdout",
     "output_type": "stream",
     "text": [
      "('Sneha', 'Sreeja', 'Minnu')\n",
      "('Nithish', 'Praveen', 'Sai', 'Krishna')\n",
      "('Sneha', 'Sreeja', 'Minnu', 'Nithish', 'Praveen', 'Sai', 'Krishna')\n",
      "7\n",
      "['Sneha', 'Sreeja', 'Minnu', 'Nithish', 'Praveen', 'Sai', 'Krishna', 'Sudhakar', 'Saritha']\n"
     ]
    }
   ],
   "source": [
    "#3\n",
    "\n",
    "# tuple with names of sisters and brothers\n",
    "sisters = (\"Sneha\", \"Sreeja\", \"Minnu\")\n",
    "brothers = (\"Nithish\", \"Praveen\", \"Sai\", \"Krishna\")\n",
    "print(sisters)\n",
    "print(brothers)\n",
    "\n",
    "# joining brothers and sisters\n",
    "\n",
    "siblings= sisters + brothers\n",
    "print(siblings)\n",
    "\n",
    "#count of siblings\n",
    "\n",
    "siblingscount= len(siblings)\n",
    "print(siblingscount)\n",
    "\n",
    "#appending father and mother\n",
    "\n",
    "father= \"Sudhakar\"\n",
    "mother = \"Saritha\"\n",
    "\n",
    "family_members = list(siblings)\n",
    "\n",
    "family_members.append(father)\n",
    "family_members.append(mother)\n",
    "print(family_members)\n"
   ]
  },
  {
   "cell_type": "code",
   "execution_count": 81,
   "metadata": {},
   "outputs": [
    {
     "name": "stdout",
     "output_type": "stream",
     "text": [
      "The length of set is: 7\n",
      "{'Google', 'Twitter', 'IBM', 'Microsoft', 'Oracle', 'Amazon', 'Apple', 'Facebook'}\n",
      "{'Oracle', 'Apple', 'Facebook', 'Google', 'Accenture', 'TCS', 'Adobe', 'Microsoft', 'Amazon', 'Twitter', 'IBM'}\n",
      "{'Oracle', 'Apple', 'Facebook', 'Google', 'Accenture', 'Adobe', 'Microsoft', 'Amazon', 'Twitter', 'IBM'}\n",
      "{19, 20, 22, 24, 25, 26, 27, 28}\n",
      "{19, 20, 22, 24, 25, 26}\n",
      "True\n",
      "False\n",
      "{19, 20, 22, 24, 25, 26, 27, 28} {19, 20, 22, 24, 25, 26, 27, 28}\n",
      "False\n"
     ]
    }
   ],
   "source": [
    "#4\n",
    "it_companies = {'Facebook', 'Google', 'Microsoft', 'Apple', 'IBM', 'Oracle', 'Amazon'}\n",
    "A = {19, 22, 24, 20, 25, 26}\n",
    "B = {19, 22, 20, 25, 26, 24, 28, 27}\n",
    "age = [22, 19, 24, 25, 26, 24, 25, 24]\n",
    "#Find the length of the set it_companies\n",
    "print(\"The length of set is:\", len(it_companies))\n",
    "#Add 'Twitter' to it_companies\n",
    "it_companies.add(\"Twitter\")\n",
    "print(it_companies)\n",
    "#Insert multiple IT companies at once to the set it_companies\n",
    "multiple_ITcompanies= [\"TCS\", \"Accenture\", \"Adobe\"]\n",
    "it_companies.update(multiple_ITcompanies)\n",
    "print(it_companies)\n",
    "#Remove one of the companies from the set it_companies\n",
    "it_companies.remove(\"TCS\")\n",
    "print(it_companies)\n",
    "#Difference between remove and discard\n",
    "#Remove: If item to remove does not exist, remove() will raise an error\n",
    "#Discard: If item to remove does not exist, discard() will NOT raise an error\n",
    "#Join A and B\n",
    "C = A.union(B)\n",
    "print(C)\n",
    "#Find A intersection B\n",
    "D = A.intersection(B)\n",
    "print(D)\n",
    "#Is A subset of B\n",
    "E = A.issubset(B)\n",
    "print(E)\n",
    "#Are A and B disjoint sets\n",
    "F = A.isdisjoint(B)\n",
    "print(F)\n",
    "#Join A with B and B with A\n",
    "G = B.union(A)\n",
    "print(C,G)\n",
    "#What is the symmetric difference between A and B\n",
    "A.symmetric_difference(B)\n",
    "#Delete the sets completely\n",
    "del A,B\n",
    "#print(B)\n",
    "#Convert the ages to a set and compare the length of the list and the set\n",
    "S= set(age)\n",
    "print(len(S)==len(age))"
   ]
  },
  {
   "cell_type": "code",
   "execution_count": 82,
   "metadata": {},
   "outputs": [
    {
     "name": "stdout",
     "output_type": "stream",
     "text": [
      "{'and', 'to', 'love', 'teacher', 'a', 'people', 'am', 'inspire', 'I', 'teach'}\n"
     ]
    }
   ],
   "source": [
    "#6\n",
    "\n",
    "#printing unique words\n",
    "\n",
    "str =  \"I am a teacher and I love to inspire and teach people\"\n",
    "s=set(str.split(\" \"))\n",
    "print(s)"
   ]
  },
  {
   "cell_type": "code",
   "execution_count": 83,
   "metadata": {},
   "outputs": [
    {
     "name": "stdout",
     "output_type": "stream",
     "text": [
      "Name\t\tAge\t\tCountry\t\tCity\n",
      "Asabeneh\t250\t\tFinland\t\tHelsinki\n"
     ]
    }
   ],
   "source": [
    "#7\n",
    "\n",
    "#printing the sequence\n",
    "\n",
    "print(\"Name\\t\\tAge\\t\\tCountry\\t\\tCity\\nAsabeneh\\t250\\t\\tFinland\\t\\tHelsinki\")\n",
    "\n"
   ]
  },
  {
   "cell_type": "code",
   "execution_count": 86,
   "metadata": {},
   "outputs": [
    {
     "name": "stdout",
     "output_type": "stream",
     "text": [
      "Area of a circle with the given radius is 314 meters square\n"
     ]
    }
   ],
   "source": [
    "#8\n",
    "\n",
    "radius = 10\n",
    "area = 3.14 * radius ** 2\n",
    "\n",
    "print(\"Area of a circle with radius is %d meters square\" %area)"
   ]
  }
 ],
 "metadata": {
  "kernelspec": {
   "display_name": "Python 3.10.6 64-bit (windows store)",
   "language": "python",
   "name": "python3"
  },
  "language_info": {
   "codemirror_mode": {
    "name": "ipython",
    "version": 3
   },
   "file_extension": ".py",
   "mimetype": "text/x-python",
   "name": "python",
   "nbconvert_exporter": "python",
   "pygments_lexer": "ipython3",
   "version": "3.10.6"
  },
  "orig_nbformat": 4,
  "vscode": {
   "interpreter": {
    "hash": "ea3dbf01e772ce11538f8b33ca28ad16e11a9e588f65628a67ba66fcc6e42de2"
   }
  }
 },
 "nbformat": 4,
 "nbformat_minor": 2
}
